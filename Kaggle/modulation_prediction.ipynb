{
 "cells": [
  {
   "cell_type": "markdown",
   "metadata": {},
   "source": [
    "### Setting up Training Data ###"
   ]
  },
  {
   "cell_type": "code",
   "execution_count": null,
   "metadata": {},
   "outputs": [],
   "source": [
    "from __future__ import print_function\n",
    "import numpy as np\n",
    "import h5py\n",
    "import csv\n",
    "import matplotlib.pyplot as plt\n",
    "import torch\n",
    "from torch.nn import Linear, ReLU, CrossEntropyLoss, Sequential, Conv2d, MaxPool2d, Module, Softmax, BatchNorm2d, Dropout\n",
    "from torch.optim import Adam, SGD\n",
    "from torch.autograd import Variable\n",
    "import torch.nn.functional as F\n",
    "from sklearn.metrics import accuracy_score\n",
    "from sklearn.model_selection import train_test_split\n",
    "import torchvision\n",
    "from torchvision import datasets, transforms\n",
    "with h5py.File(\"data.hdf5\", 'r') as f:\n",
    "    train_data = f['train'][()]\n",
    "    test_data = f['test'][()]\n",
    "labels = open('train_labels.csv')\n",
    "labels_reader = csv.reader(labels)\n",
    "classes = [\"FM\",\"OQPSK\",\"BPSK\",\"8PSK\",\"AM-SSB-SC\",\"4ASK\",\"16PSK\",\"AM-DSB-SC\",\"QPSK\",\"OOK\"]\n",
    "train_labels_data = []\n",
    "for row in labels_reader:\n",
    "    if row[0] != 'Id':\n",
    "        train_labels_data.append(classes.index(row[1]))\n",
    "\n",
    "train_labels_data = np.asarray(train_labels_data)\n",
    "print(train_data.shape)\n",
    "print(len(train_labels_data))\n",
    "print(test_data.shape)"
   ]
  },
  {
   "cell_type": "markdown",
   "metadata": {},
   "source": [
    "### Data Augmentation and Training/Validation Set Processing ###"
   ]
  },
  {
   "cell_type": "code",
   "execution_count": null,
   "metadata": {},
   "outputs": [],
   "source": [
    "\n",
    "counter = 0\n",
    "for i in train_data:\n",
    "    print(counter)\n",
    "    if counter > 4000:\n",
    "        break\n",
    "    # rotation matrix\n",
    "    theta = np.pi/2\n",
    "    rot = np.array([[np.cos(theta), -np.sin(theta)], [np.sin(theta), np.cos(theta)]])\n",
    "    np.append(train_data,np.dot(rot,i.transpose()).transpose())\n",
    "    np.append(train_labels_data,train_labels_data[counter])\n",
    "    \n",
    "    theta = np.pi\n",
    "    rot = np.array([[np.cos(theta), -np.sin(theta)], [np.sin(theta), np.cos(theta)]])\n",
    "    np.append(train_data,np.dot(rot, i.transpose()).transpose())\n",
    "    np.append(train_labels_data, train_labels_data[counter])\n",
    "    counter += 1\n",
    "    \n",
    "train_data"
   ]
  },
  {
   "cell_type": "code",
   "execution_count": null,
   "metadata": {},
   "outputs": [],
   "source": [
    "# converting training images into torch format\n",
    "train_x = train_data.reshape(30000, 1, 1024, 2)\n",
    "train_x  = torch.from_numpy(train_x)\n",
    "\n",
    "# train_fft_x = fft_train_2d.reshape(30000, 1, 1024, 2)\n",
    "# train_fft_x  = torch.from_numpy(train_fft_x)\n",
    "\n",
    "# converting test images into torch format\n",
    "test_x = test_data.reshape(20000, 1, 1024, 2)\n",
    "test_x  = torch.from_numpy(test_x)\n",
    "\n",
    "# converting the target into torch format\n",
    "train_y = train_labels_data.astype(int)\n",
    "train_y = torch.from_numpy(train_y)\n",
    "\n",
    "# split into batches\n",
    "train_x, val_x, train_y, val_y = train_test_split(train_x, train_y, test_size = 0.3,shuffle=True)\n",
    "\n",
    "train_x1, train_x2, train_y1,train_y2 = train_test_split(train_x, train_y, test_size = 0.50,shuffle=True)\n",
    "train_x3, train_x4, train_y3,train_y4 = train_test_split(train_x1, train_y1, test_size = 0.50,shuffle=True)\n",
    "train_x5, train_x6, train_y5,train_y6 = train_test_split(train_x2, train_y2, test_size = 0.7,shuffle=True)\n",
    "train_val1, train_val2, train_valy1,train_valy2 = train_test_split(val_x, val_y, test_size = 0.95,shuffle=True)\n",
    "# batches\n",
    "train = torch.utils.data.TensorDataset(train_x,train_y)\n",
    "trainloader = torch.utils.data.DataLoader(train, batch_size=240, shuffle=True)\n",
    "\n",
    "# shape of training data\n",
    "print(train_x.shape)\n",
    "print(train_y.shape)"
   ]
  },
  {
   "cell_type": "markdown",
   "metadata": {},
   "source": [
    "### Visualizing Data  ###"
   ]
  },
  {
   "cell_type": "code",
   "execution_count": null,
   "metadata": {},
   "outputs": [],
   "source": [
    "for j in range(0,50):\n",
    "    I = []\n",
    "    Q = []\n",
    "    for i in range(0,1024):\n",
    "        I.append(train_data[j][i][0])\n",
    "        Q.append(train_data[j][i][1])\n",
    "    plt.figure(j)\n",
    "    plt.scatter(I,Q)"
   ]
  },
  {
   "cell_type": "markdown",
   "metadata": {},
   "source": [
    "### Setting up Convolutional Neural Network Architecture ###"
   ]
  },
  {
   "cell_type": "code",
   "execution_count": null,
   "metadata": {},
   "outputs": [],
   "source": [
    "import torch.nn as nn\n",
    "\n",
    "class Net2(nn.Module):\n",
    "    def __init__(self):\n",
    "        super(Net2, self).__init__()\n",
    "        self.conv1 = nn.Conv2d(1, 256, kernel_size=(3,1), stride=1)\n",
    "        self.batchnorm1 = nn.BatchNorm2d(num_features=256)\n",
    "        self.batchnorm2 = nn.BatchNorm2d(num_features=80)\n",
    "        self.conv2 = nn.Conv2d(256, 256, kernel_size=(3,2), stride=1)\n",
    "        self.conv3 = nn.Conv2d(256, 80, kernel_size=(3,1), stride=1)\n",
    "        self.conv4 = nn.Conv2d(80, 80, kernel_size=(3,1), stride=1)\n",
    "        self.dropout = nn.Dropout(p=0.3)\n",
    "        self.fc1 = nn.Linear(81280, 128)\n",
    "        self.fc2 = nn.Linear(128, len(classes))\n",
    "\n",
    "    def forward(self, x):\n",
    "        x = F.relu(self.batchnorm1(self.conv1(x)))\n",
    "        x = F.relu(self.batchnorm1(self.conv2(x)))\n",
    "        x = F.selu(self.batchnorm2(self.conv3(x)))\n",
    "        x = F.selu(self.batchnorm2(self.conv4(x)))\n",
    "        x = x.view(-1, 81280)\n",
    "        x = self.dropout(F.relu(self.fc1(x)))\n",
    "        x = self.fc2(x)\n",
    "        return F.log_softmax(x, dim=1)\n",
    "        \n",
    "cnn = Net2()\n",
    "print(cnn)\n",
    "\n",
    "it = iter(trainloader)\n",
    "\n",
    "x = torch.randn(3,1,1024,2)\n",
    "conv1 = nn.Conv2d(1, 256, kernel_size=(3,1), stride=1)\n",
    "y=conv1(x)\n",
    "print(y.shape)\n",
    "conv2 = nn.Conv2d(256, 256, kernel_size=(3,2), stride=1)\n",
    "y=conv2(y)\n",
    "print(y.shape)\n",
    "conv3 = nn.Conv2d(256, 80, kernel_size=(3,1), stride=1)\n",
    "conv4 = nn.Conv2d(80, 80, kernel_size=(3,1), stride=1)\n",
    "y=conv3(y)\n",
    "print(y.shape)\n",
    "y=conv4(y)\n",
    "print(y.shape)"
   ]
  },
  {
   "cell_type": "markdown",
   "metadata": {},
   "source": [
    "# Set up training protocol ###"
   ]
  },
  {
   "cell_type": "code",
   "execution_count": null,
   "metadata": {},
   "outputs": [],
   "source": [
    "def fit(model, train_loader):\n",
    "    optimizer = torch.optim.Adagrad(model.parameters(),lr=0.0002, weight_decay=0.00009 )\n",
    "    error = nn.CrossEntropyLoss()\n",
    "    EPOCHS = 10000\n",
    "    model.train()\n",
    "    for epoch in range(EPOCHS):\n",
    "        for batch_idx, (X_batch, y_batch) in enumerate(train_loader):\n",
    "            var_X_batch = Variable(X_batch).float()\n",
    "            var_y_batch = Variable(y_batch)\n",
    "            optimizer.zero_grad()\n",
    "            output = model(var_X_batch)\n",
    "            loss = error(output, var_y_batch)\n",
    "            loss.backward()\n",
    "            optimizer.step()\n",
    "            predicted = torch.max(output.data, 1)[1] \n",
    "            print(\"Accuracy:\")\n",
    "            print(((predicted == var_y_batch).sum()).double()/240)\n",
    "            print(\"Loss:\")\n",
    "            print(loss)\n",
    "            print(\"Epoch:\")\n",
    "            print(epoch)\n",
    "            print(\"Batch:\")\n",
    "            print(batch_idx)\n",
    "            if (batch_idx % 20 == 0):\n",
    "                torch.save(model.state_dict(), 'weights.pt')\n",
    "                with torch.no_grad():\n",
    "                    validout = model(train_val1)\n",
    "                valpred = torch.max(validout.data, 1)[1] \n",
    "                print(\"########################\")\n",
    "                print(\"Validation Accuracy:\")\n",
    "                print(((valpred == train_valy1).sum()).double()/len(train_valy1))\n",
    "                print(\"########################\")"
   ]
  },
  {
   "cell_type": "code",
   "execution_count": null,
   "metadata": {
    "scrolled": false
   },
   "outputs": [],
   "source": [
    "fit(cnn, trainloader)"
   ]
  },
  {
   "cell_type": "markdown",
   "metadata": {},
   "source": [
    "### Predictions ###"
   ]
  },
  {
   "cell_type": "code",
   "execution_count": null,
   "metadata": {},
   "outputs": [],
   "source": [
    "with torch.no_grad():\n",
    "    output = cnn(test_x)"
   ]
  },
  {
   "cell_type": "code",
   "execution_count": null,
   "metadata": {},
   "outputs": [],
   "source": [
    "prob = output.tolist()\n",
    "predictions = np.argmax(prob, axis=1)\n",
    "\n",
    "pred_label = []\n",
    "for i in predictions:\n",
    "    pred_label.append(classes[i])\n",
    "from numpy import asarray\n",
    "from numpy import savetxt\n",
    "import pandas as pd\n",
    "# define id\n",
    "id = np.arange(0,20000)\n",
    "labels=np.asarray(pred_label)\n",
    "labels.reshape(20000,1)\n",
    "print(labels.shape)\n",
    "d = {'Category':labels}\n",
    "df = pd.DataFrame(data=d)\n",
    "df.to_csv('submission.csv')"
   ]
  }
 ],
 "metadata": {
  "kernelspec": {
   "display_name": "Python 3",
   "language": "python",
   "name": "python3"
  },
  "language_info": {
   "codemirror_mode": {
    "name": "ipython",
    "version": 3
   },
   "file_extension": ".py",
   "mimetype": "text/x-python",
   "name": "python",
   "nbconvert_exporter": "python",
   "pygments_lexer": "ipython3",
   "version": "3.8.5"
  }
 },
 "nbformat": 4,
 "nbformat_minor": 4
}
