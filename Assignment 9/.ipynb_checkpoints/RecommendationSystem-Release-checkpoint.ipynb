{
 "cells": [
  {
   "cell_type": "markdown",
   "metadata": {},
   "source": [
    "# Assignment 9 Coding: Recommendation System Basics \n",
    "\n",
    "In this assignment, we will use [Surprise: A Python scikit for recommender systems](http://surpriselib.com/) to predict users' ratings on items based on existing ratings, which is an essential part in modern recommendation systems. Use the following code to install surprise or refer to the website:\n",
    "```python \n",
    "    pip install cython numpy\n",
    "    pip install scikit-surprise\n",
    "```\n",
    "\n",
    "or \n",
    "\n",
    "```python \n",
    "    pip3 install cython numpy\n",
    "    pip3 install scikit-surprise\n",
    "```\n",
    "\n",
    "or\n",
    "\n",
    "```python \n",
    "    conda install -c conda-forge scikit-surprise\n",
    "```"
   ]
  },
  {
   "cell_type": "markdown",
   "metadata": {},
   "source": [
    "## Movielens 100k Dataset\n",
    "The following code loads the [Movielens Dataset (see the link for more details)](https://grouplens.org/datasets/movielens/), which has 100k ratings of 1682 movies by 943 users. Here we print the ratings given by user 1, which consists of a few tuples in the format (movie_id, rating)."
   ]
  },
  {
   "cell_type": "code",
   "execution_count": 5,
   "metadata": {
    "scrolled": true
   },
   "outputs": [
    {
     "name": "stdout",
     "output_type": "stream",
     "text": [
      "Number of Users: 943\n",
      "Number of Items: 1682\n",
      "Ratings from User 1: [(0, 3.0), (528, 4.0), (377, 4.0), (522, 3.0), (431, 5.0), (834, 5.0), (380, 4.0), (329, 4.0), (550, 5.0), (83, 4.0), (632, 2.0), (86, 4.0), (289, 5.0), (363, 3.0), (438, 5.0), (389, 5.0), (649, 4.0), (947, 4.0), (423, 3.0), (291, 3.0), (10, 2.0), (1006, 4.0), (179, 3.0), (751, 3.0), (487, 3.0), (665, 3.0), (92, 4.0), (512, 5.0), (1045, 3.0), (672, 4.0), (656, 4.0), (221, 5.0), (432, 2.0), (365, 3.0), (321, 2.0), (466, 4.0), (302, 4.0), (491, 3.0), (521, 1.0)]\n"
     ]
    }
   ],
   "source": [
    "from surprise import SVD\n",
    "from surprise import Dataset\n",
    "from surprise import accuracy\n",
    "from surprise.model_selection import split\n",
    "import matplotlib.pyplot as plt\n",
    "import numpy as np\n",
    "data = Dataset.load_builtin('ml-100k')\n",
    "dataset = data.build_full_trainset()\n",
    "ratings = dataset.ur\n",
    "print(\"Number of Users:\", len(ratings.keys()))\n",
    "print(\"Number of Items:\", len(dataset.ir.keys()))\n",
    "print(\"Ratings from User 1:\", ratings[0])"
   ]
  },
  {
   "cell_type": "markdown",
   "metadata": {},
   "source": [
    "## 1. Prediction using Nearest Neighbour-based Collaborative Filtering\n",
    "\n",
    "Refer to the section *Train-test split and the fit() method* in [this page](https://surprise.readthedocs.io/en/stable/getting_started.html). Using test_size in $[0.1, 0.2, 0.3, 0.4, 0.5, 0.6, 0.7, 0.8, 0.9]$ and using KNNBasic as the algorithm, plot the rmse of the predictions you get and explain."
   ]
  },
  {
   "cell_type": "code",
   "execution_count": 8,
   "metadata": {},
   "outputs": [
    {
     "name": "stdout",
     "output_type": "stream",
     "text": [
      "Computing the msd similarity matrix...\n",
      "Done computing similarity matrix.\n",
      "RMSE: 0.9711\n",
      "Computing the msd similarity matrix...\n",
      "Done computing similarity matrix.\n",
      "RMSE: 0.9716\n",
      "Computing the msd similarity matrix...\n",
      "Done computing similarity matrix.\n",
      "RMSE: 0.9808\n",
      "Computing the msd similarity matrix...\n",
      "Done computing similarity matrix.\n",
      "RMSE: 0.9984\n",
      "Computing the msd similarity matrix...\n",
      "Done computing similarity matrix.\n",
      "RMSE: 1.0027\n",
      "Computing the msd similarity matrix...\n",
      "Done computing similarity matrix.\n",
      "RMSE: 1.0142\n",
      "Computing the msd similarity matrix...\n",
      "Done computing similarity matrix.\n",
      "RMSE: 1.0345\n",
      "Computing the msd similarity matrix...\n",
      "Done computing similarity matrix.\n",
      "RMSE: 1.0616\n",
      "Computing the msd similarity matrix...\n",
      "Done computing similarity matrix.\n",
      "RMSE: 1.1653\n"
     ]
    },
    {
     "data": {
      "text/plain": [
       "[<matplotlib.lines.Line2D at 0x11c954490>]"
      ]
     },
     "execution_count": 8,
     "metadata": {},
     "output_type": "execute_result"
    },
    {
     "data": {
      "image/png": "[encoded data removed]",
      "text/plain": [
       "<Figure size 432x288 with 1 Axes>"
      ]
     },
     "metadata": {
      "needs_background": "light"
     },
     "output_type": "display_data"
    }
   ],
   "source": [
    "from surprise import KNNBasic\n",
    "from surprise.model_selection import train_test_split\n",
    "test_size_list = [0.1, 0.2, 0.3, 0.4, 0.5, 0.6, 0.7, 0.8, 0.9]\n",
    "rmse_list = np.zeros(len(test_size_list))\n",
    "algo = KNNBasic()\n",
    "#========= Your code goes here ======\n",
    "for i in range(len(test_size_list)):\n",
    "    trainset, testset = train_test_split(data, test_size=test_size_list[i])\n",
    "    # Train the algorithm on the trainset, and predict ratings for the testset\n",
    "    algo.fit(trainset)\n",
    "    predictions = algo.test(testset)\n",
    "    # Then compute RMSE\n",
    "    rmse_list[i] = accuracy.rmse(predictions)\n",
    "#==================================\n",
    "plt.plot(test_size_list, rmse_list)"
   ]
  },
  {
   "cell_type": "markdown",
   "metadata": {},
   "source": [
    "### Explanation for Problem 1 ###\n",
    "\n",
    "As seen in the plot for the RMSE as a function of test set size, as we increase the test size and decrease the training size, the RMSE increases from around 0.975 to more than 1.150. This is the expected behavior because as we reduce the training set size, the model learns from a lower number of samples and thus, cannot perform well on a larger test size it has never seen before. The model can overfit (memorize) the small train set and cannot generalize. The increase in RMSE is rather slow until we reach a test size ratio of 0.8. Beyond this point, the RMSE increases at a high rate. "
   ]
  },
  {
   "cell_type": "markdown",
   "metadata": {},
   "source": [
    "## 2. Prediction using SVD-based Collaborative Filtering\n",
    "\n",
    "Refer to the section *Train-test split and the fit() method* in [this page](https://surprise.readthedocs.io/en/stable/getting_started.html). Using test_size in $[0.1, 0.2, 0.3, 0.4, 0.5, 0.6, 0.7, 0.8, 0.9]$ and using SVD as the algorithm, plot the rmse of the predictions you get and explain."
   ]
  },
  {
   "cell_type": "code",
   "execution_count": 7,
   "metadata": {},
   "outputs": [
    {
     "name": "stdout",
     "output_type": "stream",
     "text": [
      "RMSE: 0.9337\n",
      "RMSE: 0.9392\n",
      "RMSE: 0.9480\n",
      "RMSE: 0.9492\n",
      "RMSE: 0.9549\n",
      "RMSE: 0.9623\n",
      "RMSE: 0.9719\n",
      "RMSE: 0.9842\n",
      "RMSE: 1.0064\n"
     ]
    },
    {
     "data": {
      "text/plain": [
       "[<matplotlib.lines.Line2D at 0x11c935090>]"
      ]
     },
     "execution_count": 7,
     "metadata": {},
     "output_type": "execute_result"
    },
    {
     "data": {
      "image/png": "[encoded data removed]",
      "text/plain": [
       "<Figure size 432x288 with 1 Axes>"
      ]
     },
     "metadata": {
      "needs_background": "light"
     },
     "output_type": "display_data"
    }
   ],
   "source": [
    "from surprise import SVD\n",
    "test_size_list = [0.1, 0.2, 0.3, 0.4, 0.5, 0.6, 0.7, 0.8, 0.9]\n",
    "rmse_list = np.zeros(len(test_size_list))\n",
    "algo = SVD()\n",
    "#========= Your code goes here ======\n",
    "for i in range(len(test_size_list)):\n",
    "    trainset, testset = train_test_split(data, test_size=test_size_list[i])\n",
    "    # Train the algorithm on the trainset, and predict ratings for the testset\n",
    "    algo.fit(trainset)\n",
    "    predictions = algo.test(testset)\n",
    "    # Then compute RMSE\n",
    "    rmse_list[i] = accuracy.rmse(predictions)\n",
    "#==================================\n",
    "plt.plot(test_size_list, rmse_list)"
   ]
  },
  {
   "cell_type": "markdown",
   "metadata": {},
   "source": [
    "### Explanation for Problem 2 ###\n",
    "\n",
    "As seen in the plot for the RMSE as a function of test set size for SVD, as we increase the test size and decrease the training size, the RMSE increases rather consistently from around 0.935 to more than 1.05. Compared to KNNBasic(), the SVD-based collaborative filtering system has lower RMSE, indicating slightly better performance. The increase in RMSE is expected because, as we decrease the training set size, the model learns from a smaller number of samples and cannot perform well on a larger test size it has never seen before. The model can overfit (memorize) the small train set and cannot generalize. The increase in RMSE is somewhat consistent, with a very slight increase in the rate of change beyond test size ratio of 0.8, in contrast to the stark rise in the rate of change for KNNBasic()."
   ]
  },
  {
   "cell_type": "code",
   "execution_count": null,
   "metadata": {},
   "outputs": [],
   "source": []
  }
 ],
 "metadata": {
  "kernelspec": {
   "display_name": "Python 3",
   "language": "python",
   "name": "python3"
  },
  "language_info": {
   "codemirror_mode": {
    "name": "ipython",
    "version": 3
   },
   "file_extension": ".py",
   "mimetype": "text/x-python",
   "name": "python",
   "nbconvert_exporter": "python",
   "pygments_lexer": "ipython3",
   "version": "3.7.6"
  }
 },
 "nbformat": 4,
 "nbformat_minor": 4
}
