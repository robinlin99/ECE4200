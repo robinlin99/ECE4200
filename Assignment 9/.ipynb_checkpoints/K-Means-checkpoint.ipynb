{
 "cells": [
  {
   "cell_type": "code",
   "execution_count": 18,
   "metadata": {},
   "outputs": [],
   "source": [
    "import numpy as np\n",
    "vec = np.array([[5,5,1,1.5527,1.7888],[3.6905,4,2,2,3],[1,2,4,3,5],[2,2,3.7734,5,4],[3,2,4,4.6414,5],[4,5,3,1.945,1]])\n",
    "centroids = np.array([[5,5,1,1.5527,1.7888],[3.6905,4,2,2,3]])"
   ]
  },
  {
   "cell_type": "code",
   "execution_count": 19,
   "metadata": {},
   "outputs": [],
   "source": [
    "def k_means(vec, K, eps, max_iter,centroids):\n",
    "    #============ Your code here ====================\n",
    "    # Initialization\n",
    "    def euclidean(a,b):\n",
    "        dist = (a-b)**2\n",
    "        dist = np.sum(dist)\n",
    "        return np.sqrt(dist)\n",
    "    n = vec.shape[0]\n",
    "    d = vec.shape[1]\n",
    "    labels = np.zeros(n).astype(int)\n",
    "    count = 0\n",
    "    cbefore = centroids.copy()\n",
    "    cafter = centroids.copy()\n",
    "    # Start update\n",
    "    while (count < max_iter):\n",
    "        string = \"Iteration: \"\n",
    "        print(string+str(count))\n",
    "        cbefore = centroids.copy()\n",
    "        # iterate over n examples in vec\n",
    "        for i in range(0,len(vec)):\n",
    "            minindex = -1\n",
    "            # find minimum distance between xi and centroid cj\n",
    "            mindist = float('inf')\n",
    "            for j in range(0,len(centroids)):\n",
    "                if (euclidean(vec[i],centroids[j]) < mindist):\n",
    "                    mindist = euclidean(vec[i],centroids[j])\n",
    "                    minindex = j\n",
    "            labels[i] = minindex\n",
    "        for j in range(0,K):\n",
    "            ele = np.where(labels==j)[0]\n",
    "            n_ele = len(ele)\n",
    "            summation = np.zeros((d,))\n",
    "            for i in range(0,n_ele):\n",
    "                summation+= vec[ele[i]]\n",
    "            centroids[j] = 1/n_ele*summation\n",
    "        cafter = centroids.copy()\n",
    "        diff = 0\n",
    "        for i in range(0,K):\n",
    "            diff+= euclidean(cbefore[i],cafter[i])**2\n",
    "        diff = 1/K*diff\n",
    "        print(\"Labels: \")\n",
    "        print(labels)\n",
    "        print(\"Centroid: \")\n",
    "        print(centroids)\n",
    "        print(\"------------\")\n",
    "        if (diff == eps):\n",
    "            return centroids, labels\n",
    "        count+=1\n",
    "    #=============== End code =====================\n",
    "    return centroids, labels\n"
   ]
  },
  {
   "cell_type": "code",
   "execution_count": 20,
   "metadata": {},
   "outputs": [
    {
     "name": "stdout",
     "output_type": "stream",
     "text": [
      "Iteration: 0\n",
      "Labels: \n",
      "[0 1 1 1 1 0]\n",
      "Centroid: \n",
      "[[4.5      5.       2.       1.74885  1.3944  ]\n",
      " [2.422625 2.5      3.44335  3.66035  4.25    ]]\n",
      "------------\n",
      "Iteration: 1\n",
      "Labels: \n",
      "[0 0 1 1 1 0]\n",
      "Centroid: \n",
      "[[4.23016667 4.66666667 2.         1.83256667 1.9296    ]\n",
      " [2.         2.         3.92446667 4.2138     4.66666667]]\n",
      "------------\n",
      "Iteration: 2\n",
      "Labels: \n",
      "[0 0 1 1 1 0]\n",
      "Centroid: \n",
      "[[4.23016667 4.66666667 2.         1.83256667 1.9296    ]\n",
      " [2.         2.         3.92446667 4.2138     4.66666667]]\n",
      "------------\n"
     ]
    }
   ],
   "source": [
    "eps = 0\n",
    "max_iter = 10000\n",
    "centroids, labels = k_means(vec, 2, eps, max_iter,centroids)"
   ]
  },
  {
   "cell_type": "code",
   "execution_count": null,
   "metadata": {},
   "outputs": [],
   "source": []
  }
 ],
 "metadata": {
  "kernelspec": {
   "display_name": "Python 3",
   "language": "python",
   "name": "python3"
  },
  "language_info": {
   "codemirror_mode": {
    "name": "ipython",
    "version": 3
   },
   "file_extension": ".py",
   "mimetype": "text/x-python",
   "name": "python",
   "nbconvert_exporter": "python",
   "pygments_lexer": "ipython3",
   "version": "3.7.6"
  }
 },
 "nbformat": 4,
 "nbformat_minor": 4
}
