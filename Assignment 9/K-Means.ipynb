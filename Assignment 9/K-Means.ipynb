{
 "cells": [
  {
   "cell_type": "code",
   "execution_count": 27,
   "metadata": {},
   "outputs": [],
   "source": [
    "import numpy as np"
   ]
  },
  {
   "cell_type": "code",
   "execution_count": 28,
   "metadata": {},
   "outputs": [],
   "source": [
    "def k_means(vec, K, eps, max_iter,centroids):\n",
    "    #============ Your code here ====================\n",
    "    # Initialization\n",
    "    def euclidean(a,b):\n",
    "        dist = (a-b)**2\n",
    "        dist = np.sum(dist)\n",
    "        return np.sqrt(dist)\n",
    "    n = vec.shape[0]\n",
    "    d = vec.shape[1]\n",
    "    labels = np.zeros(n).astype(int)\n",
    "    count = 0\n",
    "    cbefore = centroids.copy()\n",
    "    cafter = centroids.copy()\n",
    "    # Start update\n",
    "    while (count < max_iter):\n",
    "        string = \"Iteration: \"\n",
    "        print(string+str(count))\n",
    "        cbefore = centroids.copy()\n",
    "        # iterate over n examples in vec\n",
    "        for i in range(0,len(vec)):\n",
    "            minindex = -1\n",
    "            # find minimum distance between xi and centroid cj\n",
    "            mindist = float('inf')\n",
    "            for j in range(0,len(centroids)):\n",
    "                if (euclidean(vec[i],centroids[j]) < mindist):\n",
    "                    mindist = euclidean(vec[i],centroids[j])\n",
    "                    minindex = j\n",
    "            labels[i] = minindex\n",
    "        for j in range(0,K):\n",
    "            ele = np.where(labels==j)[0]\n",
    "            n_ele = len(ele)\n",
    "            summation = np.zeros((d,))\n",
    "            for i in range(0,n_ele):\n",
    "                summation+= vec[ele[i]]\n",
    "            centroids[j] = 1/n_ele*summation\n",
    "        cafter = centroids.copy()\n",
    "        diff = 0\n",
    "        for i in range(0,K):\n",
    "            diff+= euclidean(cbefore[i],cafter[i])**2\n",
    "        diff = 1/K*diff\n",
    "        print(\"Labels: \")\n",
    "        print(labels)\n",
    "        print(\"Centroid: \")\n",
    "        print(centroids)\n",
    "        print(\"------------\")\n",
    "        if (diff == eps):\n",
    "            return centroids, labels\n",
    "        count+=1\n",
    "    #=============== End code =====================\n",
    "    return centroids, labels\n"
   ]
  },
  {
   "cell_type": "code",
   "execution_count": 29,
   "metadata": {},
   "outputs": [
    {
     "name": "stdout",
     "output_type": "stream",
     "text": [
      "[[7 7]\n",
      " [0 0]]\n",
      "Iteration: 0\n",
      "Labels: \n",
      "[1 1 1 0 1 1 1]\n",
      "Centroid: \n",
      "[[ 7  7]\n",
      " [-1 -1]]\n",
      "------------\n",
      "Iteration: 1\n",
      "Labels: \n",
      "[1 1 1 0 1 1 1]\n",
      "Centroid: \n",
      "[[ 7  7]\n",
      " [-1 -1]]\n",
      "------------\n"
     ]
    }
   ],
   "source": [
    "vec = np.array([[0,0],[3,1],[1,3],[7,7],[-3,-4],[-4,-3],[-4,-4]])\n",
    "centroids = np.array([[7,7],[0,0]])\n",
    "eps = 0\n",
    "max_iter = 10000\n",
    "print(centroids)\n",
    "centroids, labels = k_means(vec, 2, eps, max_iter,centroids)"
   ]
  },
  {
   "cell_type": "code",
   "execution_count": null,
   "metadata": {},
   "outputs": [],
   "source": []
  },
  {
   "cell_type": "code",
   "execution_count": null,
   "metadata": {},
   "outputs": [],
   "source": []
  }
 ],
 "metadata": {
  "kernelspec": {
   "display_name": "Python 3",
   "language": "python",
   "name": "python3"
  },
  "language_info": {
   "codemirror_mode": {
    "name": "ipython",
    "version": 3
   },
   "file_extension": ".py",
   "mimetype": "text/x-python",
   "name": "python",
   "nbconvert_exporter": "python",
   "pygments_lexer": "ipython3",
   "version": "3.7.6"
  }
 },
 "nbformat": 4,
 "nbformat_minor": 4
}
